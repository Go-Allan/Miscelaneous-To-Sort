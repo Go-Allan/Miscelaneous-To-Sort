{
 "cells": [
  {
   "cell_type": "code",
   "execution_count": 1,
   "metadata": {},
   "outputs": [],
   "source": [
    "import pyautogui as p\n",
    "import time\n",
    "import random as r\n",
    "from datetime import datetime as date\n",
    "\n",
    "p.FAILSAFE = False\n",
    "\n",
    "endhour = 16\n",
    "endminute = 30"
   ]
  },
  {
   "cell_type": "code",
   "execution_count": null,
   "metadata": {},
   "outputs": [
    {
     "name": "stdout",
     "output_type": "stream",
     "text": [
      "8\n"
     ]
    }
   ],
   "source": [
    "def wait():\n",
    "    time.sleep(r.randint(3,12))\n",
    "\n",
    "coord = [[450,480,1052,1074],[1745,1771,9,35],[1798,1823,8,37],[487,515,1055,1073],[1191,1202,5,13]]\n",
    "n = 0\n",
    "\n",
    "print(date.now().hour)\n",
    "\n",
    "while date.now().hour <= endhour or (date.now().hour == endhour and date.now().minute <= endminute):\n",
    "    for i in range(0,len(coord)):\n",
    "        nextx = r.randint(coord[i][0],coord[i][1])\n",
    "        nexty = r.randint(coord[i][2],coord[i][3])\n",
    "        p.moveTo(nextx, nexty, duration = 0.6 - r.randint(0,5)/10)\n",
    "        p.click(nextx,nexty)\n",
    "        wait()\n",
    "        \n",
    "p.moveTo(461, 1063, duration = 0.5)\n",
    "p.click(461,1063)\n",
    "time.sleep(3)\n",
    "\n",
    "p.moveTo(1896, 22, duration = 0.5)\n",
    "p.click(1896,22)\n",
    "time.sleep(1)\n",
    "\n",
    "\n",
    "print(\"done\")"
   ]
  }
 ],
 "metadata": {
  "kernelspec": {
   "display_name": "Python 3",
   "language": "python",
   "name": "python3"
  },
  "language_info": {
   "codemirror_mode": {
    "name": "ipython",
    "version": 3
   },
   "file_extension": ".py",
   "mimetype": "text/x-python",
   "name": "python",
   "nbconvert_exporter": "python",
   "pygments_lexer": "ipython3",
   "version": "3.7.6"
  }
 },
 "nbformat": 4,
 "nbformat_minor": 2
}
