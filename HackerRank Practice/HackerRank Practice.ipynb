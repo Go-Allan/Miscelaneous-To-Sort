{
 "cells": [
  {
   "cell_type": "code",
   "execution_count": 8,
   "metadata": {},
   "outputs": [
    {
     "name": "stdout",
     "output_type": "stream",
     "text": [
      "0.5714285714285714 0.14285714285714285 0.2857142857142857\n"
     ]
    }
   ],
   "source": [
    "#!/bin/python3\n",
    "\n",
    "import os\n",
    "import sys\n",
    "\n",
    "#\n",
    "# Complete the simpleArraySum function below.\n",
    "#\n",
    "def simpleArraySum(ar):\n",
    "    tot = 0\n",
    "    for i in range(len(ar)):\n",
    "        tot += ar[i]\n",
    "    return(tot)\n",
    "                   \n",
    "def plusMinus(arr):\n",
    "    num_pos = 0\n",
    "    num_neg = 0\n",
    "    num_zero = 0\n",
    "                   \n",
    "    for i in range(len(arr)):\n",
    "        if arr[i] > 0:\n",
    "            num_pos += 1\n",
    "        elif arr[i] < 0:\n",
    "            num_neg += 1\n",
    "        else:\n",
    "            num_zero += 1\n",
    "\n",
    "    fracpos = num_pos/len(arr)\n",
    "    fracneg = num_neg/len(arr)\n",
    "    fraczero = num_zero/len(arr)\n",
    "\n",
    "    print(fracpos, fracneg, fraczero)\n",
    "\n",
    "array = [1,2,-1,0, 0 , 3, 6]\n",
    "                   \n",
    "plusMinus(array)"
   ]
  },
  {
   "cell_type": "code",
   "execution_count": 1,
   "metadata": {},
   "outputs": [],
   "source": [
    "def plusMinus(arr):\n",
    "    num_pos = 0\n",
    "    num_neg = 0\n",
    "    num_zero = 0\n",
    "\n",
    "    for i in range(len(arr)):\n",
    "        if arr[i] > 0:\n",
    "            num_pos += 1\n",
    "        elif arr[i] < 0:\n",
    "            num_neg += 1\n",
    "        else:\n",
    "            num_zero += 1\n",
    "\n",
    "    fracpos = num_pos/len(arr)\n",
    "    fracneg = num_neg/len(arr)\n",
    "    fraczero = num_zero/len(arr)\n",
    "    output=[fracpos, fracneg, fraczero]\n",
    "\n",
    "    print(*output, sep = \"\\n\")"
   ]
  },
  {
   "cell_type": "code",
   "execution_count": null,
   "metadata": {},
   "outputs": [],
   "source": []
  }
 ],
 "metadata": {
  "kernelspec": {
   "display_name": "Python 3",
   "language": "python",
   "name": "python3"
  },
  "language_info": {
   "codemirror_mode": {
    "name": "ipython",
    "version": 3
   },
   "file_extension": ".py",
   "mimetype": "text/x-python",
   "name": "python",
   "nbconvert_exporter": "python",
   "pygments_lexer": "ipython3",
   "version": "3.7.6"
  }
 },
 "nbformat": 4,
 "nbformat_minor": 2
}
