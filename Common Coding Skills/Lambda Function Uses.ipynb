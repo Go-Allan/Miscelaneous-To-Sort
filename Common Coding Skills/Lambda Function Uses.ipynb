{
 "cells": [
  {
   "cell_type": "code",
   "execution_count": 38,
   "metadata": {},
   "outputs": [
    {
     "name": "stdout",
     "output_type": "stream",
     "text": [
      "7\n",
      "7\n",
      "Allan Go\n",
      "Help on built-in function sort:\n",
      "\n",
      "sort(*, key=None, reverse=False) method of builtins.list instance\n",
      "    Stable sort *IN PLACE*.\n",
      "\n",
      "['Douglas Adams', 'Isaac asimov', 'leigh Brackett', 'Ray bradbury', 'Orson Scott Card', 'Arthus C. clarke', 'John Doe', 'John Evans', 'ben gary', 'Robert Heinlein', 'frank Herbert', 'H. G. Wells']\n",
      "['Douglas Adams', 'Isaac asimov', 'leigh Brackett', 'Ray bradbury', 'Orson Scott Card', 'Arthus C. clarke', 'John Doe', 'John Evans', 'ben gary', 'Robert Heinlein', 'frank Herbert', 'H. G. Wells']\n"
     ]
    },
    {
     "data": {
      "text/plain": [
       "['Douglas Adam S',\n",
       " 'Isaac Asimo V',\n",
       " 'Leigh Bracket T',\n",
       " 'Ray Bradbur Y',\n",
       " 'Orson Scott Car D',\n",
       " 'Arthus C. Clark E',\n",
       " 'John Do E',\n",
       " 'John Evan S',\n",
       " 'Ben Gar Y',\n",
       " 'Robert Heinlei N',\n",
       " 'Frank Herber T',\n",
       " 'H. G. Well S']"
      ]
     },
     "execution_count": 38,
     "metadata": {},
     "output_type": "execute_result"
    }
   ],
   "source": [
    "# Ex 1\n",
    "def f(x):\n",
    "    return 3*x + 1\n",
    "\n",
    "print(f(2))\n",
    "\n",
    "# Ex 2\n",
    "lambda x: 3*x + 1\n",
    "\n",
    "g = lambda x: 3*x + 1\n",
    "print(g(2))\n",
    "\n",
    "# Ex 3\n",
    "full_name  = lambda fn, ln: fn.strip().title() + \" \" + ln.strip().title()\n",
    "print(full_name(\"    allan \", \"GO\"))\n",
    "\n",
    "# Ex 4 (sort by alphabetical last name)\n",
    "scifi_authors = [\"Isaac asimov\", \"Ray bradbury\", \"Robert Heinlein\", \"Arthus C. clarke\", \"frank Herbert\", \"Orson Scott Card\", \n",
    "                \"Douglas Adams\", \"H. G. Wells\", \"leigh Brackett\", \"John Doe\", \"John Evans\", \"ben gary\"]\n",
    "\n",
    "help(scifi_authors.sort) # use to find key argument to pass to sort function\n",
    "\n",
    "scifi_authors.sort(key = lambda name: name.split(\" \")[-1].lower()) # split name where ever there is a space and sort by the last string\n",
    "print(scifi_authors)\n",
    "\n",
    "def tidy_names_list(names_list):\n",
    "    stage2 = []\n",
    "    names_list.sort(key = lambda name: name.split(\" \")[-1].lower())\n",
    "    print(names_list)\n",
    "    \n",
    "    full_name = lambda fn, ln: fn.strip().title() + \" \" + ln.strip().title()\n",
    "    \n",
    "    for name in names_list:\n",
    "        \n",
    "        if len(name.split(\" \")) > 2: # this is not really general but we will assume people provided 2 or 3 names\n",
    "            fn = name[:-1]\n",
    "            ln = name[-1]\n",
    "        else:\n",
    "            fn = name[:-1]\n",
    "            ln = name[-1]\n",
    "            \n",
    "        stage2.append(full_name(fn,ln))\n",
    "    \n",
    "    return stage2\n",
    "\n",
    "tidy_names_list(scifi_authors)\n",
    "        \n",
    "    \n"
   ]
  },
  {
   "cell_type": "code",
   "execution_count": null,
   "metadata": {},
   "outputs": [],
   "source": []
  },
  {
   "cell_type": "code",
   "execution_count": null,
   "metadata": {},
   "outputs": [],
   "source": []
  }
 ],
 "metadata": {
  "kernelspec": {
   "display_name": "Python 3",
   "language": "python",
   "name": "python3"
  },
  "language_info": {
   "codemirror_mode": {
    "name": "ipython",
    "version": 3
   },
   "file_extension": ".py",
   "mimetype": "text/x-python",
   "name": "python",
   "nbconvert_exporter": "python",
   "pygments_lexer": "ipython3",
   "version": "3.7.3"
  }
 },
 "nbformat": 4,
 "nbformat_minor": 2
}
