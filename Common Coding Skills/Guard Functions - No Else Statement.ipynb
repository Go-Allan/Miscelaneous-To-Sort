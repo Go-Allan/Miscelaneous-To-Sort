{
 "cells": [
  {
   "cell_type": "code",
   "execution_count": 26,
   "id": "cec73b03",
   "metadata": {},
   "outputs": [
    {
     "name": "stdout",
     "output_type": "stream",
     "text": [
      "Yes!\n"
     ]
    }
   ],
   "source": [
    "class Person:\n",
    "  def __init__(self, age):\n",
    "    self.age = age\n",
    "    \n",
    "p1 = Person(25)\n",
    "\n",
    "# Nesting Method:\n",
    "def canDrink(person):\n",
    "    if person.age != None:\n",
    "        if person.age < 18:\n",
    "            print(\"Nope\")\n",
    "        elif person.age <21:\n",
    "            print(\"Not in the US...\")\n",
    "        else:\n",
    "            print(\"Yes!\")\n",
    "    else:\n",
    "        print(\"? You are not a person\")\n",
    "    return\n",
    "\n",
    "# Guard Statement Method:\n",
    "def canDrinkBetter(person):\n",
    "    if person.age == None: return print(\"You are not a person\")\n",
    "    return print(response(person.age))\n",
    "\n",
    "def response(age):\n",
    "    if age < 18: return \"Nope\"\n",
    "    if age < 21: return \"Not in the US...\"\n",
    "    return \"Yes!\"\n",
    "\n",
    "canDrinkBetter(p1)"
   ]
  },
  {
   "cell_type": "code",
   "execution_count": null,
   "id": "b65c49a1",
   "metadata": {},
   "outputs": [],
   "source": []
  }
 ],
 "metadata": {
  "kernelspec": {
   "display_name": "Python 3 (ipykernel)",
   "language": "python",
   "name": "python3"
  },
  "language_info": {
   "codemirror_mode": {
    "name": "ipython",
    "version": 3
   },
   "file_extension": ".py",
   "mimetype": "text/x-python",
   "name": "python",
   "nbconvert_exporter": "python",
   "pygments_lexer": "ipython3",
   "version": "3.9.7"
  }
 },
 "nbformat": 4,
 "nbformat_minor": 5
}
