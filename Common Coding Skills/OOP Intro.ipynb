{
 "cells": [
  {
   "cell_type": "code",
   "execution_count": 5,
   "metadata": {},
   "outputs": [
    {
     "name": "stdout",
     "output_type": "stream",
     "text": [
      "Jim 19 80\n",
      "Joe 18 85\n",
      "82.5\n"
     ]
    },
    {
     "data": {
      "text/plain": [
       "False"
      ]
     },
     "execution_count": 5,
     "metadata": {},
     "output_type": "execute_result"
    }
   ],
   "source": [
    "# intro to Object oriented programming objects and classes\n",
    "# objects being some instance of a class. the class defines a blueprint for the object to be used.\n",
    "# students in courses example for understanding\n",
    "\n",
    "class Student:\n",
    "    def __init__(self, name, age, grade):\n",
    "        self.name = name\n",
    "        self.age = age\n",
    "        self.grade = grade # 0 - 100 percentage\n",
    "        \n",
    "    def get_grade(self): # functions within a class are called a method\n",
    "        return self.grade\n",
    "    \n",
    "    def get_name(self):\n",
    "        return self.name\n",
    "    \n",
    "    def get_age(self):\n",
    "        return self.age\n",
    "    \n",
    "    def change_grade(self, newgrade):\n",
    "        self.grade = newgrade\n",
    "        \n",
    "class Course:\n",
    "    def __init__(self, name, max_students):\n",
    "        self.name = name\n",
    "        self.max_students = max_students\n",
    "        self.students = []\n",
    "        \n",
    "    def add_student(self, student):\n",
    "        if len(self.students) < self.max_students:\n",
    "            self.students.append(student)\n",
    "            return True\n",
    "        return False\n",
    "    \n",
    "    def get_avg_grade(self):\n",
    "        value = 0\n",
    "        for student in self.students:\n",
    "            value += student.get_grade()\n",
    "            \n",
    "        return value / len(self.students)\n",
    "    \n",
    "s1 = Student(\"Jim\", 19, 80) # a specific variable in this case s1 of type Student is called an instance of that class\n",
    "s2 = Student(\"Joe\", 18, 85)\n",
    "s3 = Student(\"Jill\", 18, 90)\n",
    "    \n",
    "course = Course(\"Science\", 2)\n",
    "course.add_student(s1)\n",
    "course.add_student(s2)\n",
    "            \n",
    "#print(course.students)\n",
    "#print(course.students[0].name)\n",
    "\n",
    "for i in range(0, 2):\n",
    "    print(course.students[i].name, course.students[i].age, course.students[i].grade)\n",
    "    \n",
    "print(course.get_avg_grade())\n",
    "course.add_student(s3)"
   ]
  },
  {
   "cell_type": "code",
   "execution_count": 11,
   "metadata": {},
   "outputs": [
    {
     "name": "stdout",
     "output_type": "stream",
     "text": [
      "I am Bob and I am 100 years old\n",
      "I am Carl and I am 80 years old and I am orange\n",
      "meow\n",
      "bark\n",
      "I dont know what to say\n"
     ]
    }
   ],
   "source": [
    "# Inheritance example animal classes inheriting from the generalized pet class\n",
    "\n",
    "class Pet: # upper level class\n",
    "    def __init__(self, name, age):\n",
    "        self.name = name\n",
    "        self.age = age\n",
    "        \n",
    "    def show(self):\n",
    "        print(f\"I am {self.name} and I am {self.age} years old\")\n",
    "        \n",
    "    def speak(self): # overwritten by any class that also has the same function but used if not\n",
    "        print(\"I dont know what to say\")\n",
    "        \n",
    "class Dog(Pet): # inherits the init part as well as the show function within Pet (Dog is a derived or child class)\n",
    "    def speak(self):\n",
    "        print(\"bark\")\n",
    "        \n",
    "class Cat(Pet): # inherits the init part as well as the show function within Pet by using (Pet)\n",
    "    def __init__(self, name, age, colour):\n",
    "        super().__init__(name, age) # super, inherits the init part of the passed in parent class(Pet) and uses the name and age parts of that function\n",
    "        # do the above line instead of redefining name and age in the this init since it could mess things up if doing more complicates things.\n",
    "        self.colour = colour  # say we also want to include colour for this type of pet we can use this insead of rewriting the parent init class\n",
    "        \n",
    "    def speak(self):\n",
    "        print(\"meow\")\n",
    "        \n",
    "    def show(self):\n",
    "        print(f\"I am {self.name} and I am {self.age} years old and I am {self.colour}\")\n",
    "        \n",
    "class Fish(Pet):\n",
    "    pass\n",
    "\n",
    "p = Pet(\"Bob\", 100)\n",
    "p.show()\n",
    "c = Cat(\"Carl\", 80, \"orange\")\n",
    "c.show()\n",
    "c.speak()\n",
    "d = Dog(\"Dave\", 60)\n",
    "d.speak()\n",
    "f = Fish(\"Flounder\", 1)\n",
    "f.speak()\n",
    "\n",
    "\"\"\"Another inheritance example: a corporate structure: could define a general class called \"worker\" or \"person\" and have that be the\n",
    "parent class for various other positions within the corporate heirarchy. ie all employees working at the company have a name, ID, and age.\n",
    "Then you could get more specific and define managers with a special subset of additional privedledges that do not apply to all workers. similarly you could continue \n",
    "for other people in the company such as CEO or executives etc each with additional abilities.\"\"\"\n"
   ]
  },
  {
   "cell_type": "code",
   "execution_count": 16,
   "metadata": {},
   "outputs": [
    {
     "name": "stdout",
     "output_type": "stream",
     "text": [
      "0\n",
      "0\n",
      "8\n",
      "8\n",
      "8\n"
     ]
    }
   ],
   "source": [
    "# class attributes\n",
    "\n",
    "class Person:\n",
    "    number_of_people = 0 # this is a class attribute and will be the same for each instance of the class Person\n",
    "    \n",
    "    def __init__(self,name):\n",
    "        self.name = name\n",
    "        \n",
    "p1 = Person(\"Bob\")\n",
    "p2 = Person(\"Carl\")\n",
    "\n",
    "print(p1.number_of_people) # class attributes can be used from either and instance of the class or from the general class itself\n",
    "print(Person.number_of_people)\n",
    "\n",
    "Person.number_of_people = 8 # can change the value of this class attribute and it will change it for all instances of the Class \n",
    "    \n",
    "print(p1.number_of_people)\n",
    "print(p2.number_of_people)\n",
    "print(Person.number_of_people)"
   ]
  },
  {
   "cell_type": "code",
   "execution_count": 17,
   "metadata": {},
   "outputs": [
    {
     "name": "stdout",
     "output_type": "stream",
     "text": [
      "1\n",
      "2\n"
     ]
    }
   ],
   "source": [
    "# class attributes different example\n",
    "\n",
    "class Person:\n",
    "    number_of_people = 0 # this is a class attribute and will be the same for each instance of the class Person\n",
    "    \n",
    "    def __init__(self,name):\n",
    "        self.name = name\n",
    "        Person.number_of_people += 1 # each time an instance of the person class is created we increase the number of people \n",
    "        # thus we can track how many people we have\n",
    "        \n",
    "p1 = Person(\"Bob\")\n",
    "print(Person.number_of_people)\n",
    "p2 = Person(\"Carl\")\n",
    "print(Person.number_of_people)\n",
    "\n",
    "# can also use this to define constants that will always apply to a given class. Ex gravity. instead of creatinga  global constant \n",
    "# this allows us to move classes between files if our classes are robust enough"
   ]
  },
  {
   "cell_type": "code",
   "execution_count": 18,
   "metadata": {},
   "outputs": [
    {
     "name": "stdout",
     "output_type": "stream",
     "text": [
      "2\n"
     ]
    }
   ],
   "source": [
    "# class methods (act on the class itself rather than any single instance of a class) you do not need access to the instance to call these (simply reference the name of the class)\n",
    "\n",
    "class Person:\n",
    "    number_of_people = 0 # this is a class attribute and will be the same for each instance of the class Person\n",
    "    \n",
    "    def __init__(self,name):\n",
    "        self.name = name\n",
    "        Person.add_person()\n",
    "\n",
    "    @classmethod # this is called a decorator and we add it directly above the function/method\n",
    "    def number_of_people_(cls): # use cls instead of self because there is no object, this is just acting on the class \n",
    "        return cls.number_of_people()\n",
    "        \n",
    "    @classmethod\n",
    "    def add_person(cls):\n",
    "        cls.number_of_people += 1\n",
    "        \n",
    "        \n",
    "p1 = Person(\"Bob\")\n",
    "p2 = Person(\"Carl\")\n",
    "\n",
    "print(Person.number_of_people)"
   ]
  },
  {
   "cell_type": "code",
   "execution_count": 20,
   "metadata": {},
   "outputs": [
    {
     "name": "stdout",
     "output_type": "stream",
     "text": [
      "8\n",
      "12\n",
      "say something\n"
     ]
    }
   ],
   "source": [
    "# static methods (ex if you have a lot of basic math operations or equations and you want to tidy them up by putting them into a class which you could move between files etc)\n",
    "# we want to be able to call these whether an instance of the class math exists or not. these do something but dont change anything/dont have access to change anything\n",
    "\n",
    "class Math:\n",
    "\n",
    "        @staticmethod\n",
    "        def add5(x):\n",
    "            return x + 5\n",
    "        \n",
    "        @staticmethod\n",
    "        def add10(x):\n",
    "            return x + 10\n",
    "        \n",
    "        @staticmethod\n",
    "        def pr():\n",
    "            print(\"say something\") \n",
    "        \n",
    "print(Math.add5(3))\n",
    "print(Math.add10(2))\n",
    "Math.pr()"
   ]
  },
  {
   "cell_type": "code",
   "execution_count": null,
   "metadata": {},
   "outputs": [],
   "source": []
  }
 ],
 "metadata": {
  "kernelspec": {
   "display_name": "Python 3",
   "language": "python",
   "name": "python3"
  },
  "language_info": {
   "codemirror_mode": {
    "name": "ipython",
    "version": 3
   },
   "file_extension": ".py",
   "mimetype": "text/x-python",
   "name": "python",
   "nbconvert_exporter": "python",
   "pygments_lexer": "ipython3",
   "version": "3.7.3"
  }
 },
 "nbformat": 4,
 "nbformat_minor": 2
}
